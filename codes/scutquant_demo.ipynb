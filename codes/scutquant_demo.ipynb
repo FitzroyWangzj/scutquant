{
 "cells": [
  {
   "cell_type": "code",
   "execution_count": 1,
   "metadata": {},
   "outputs": [],
   "source": [
    "import scutquant\n",
    "import pandas as pd\n",
    "\n",
    "df = pd.read_feather('D:/Desktop/future-high-freq/TA2301.XZCE.ftr')\n",
    "df = df[df['datetime'] <= '2022-04-26 23:00:00']\n",
    "df.set_index(['datetime', 'code'], inplace=True)"
   ]
  },
  {
   "cell_type": "code",
   "execution_count": 2,
   "metadata": {},
   "outputs": [
    {
     "name": "stdout",
     "output_type": "stream",
     "text": [
      "                                   open    high     low   close  volume  \\\n",
      "datetime            code                                                  \n",
      "2022-01-18 09:01:00 TA2301.XZCE  5378.0  5406.0  5378.0  5406.0     4.0   \n",
      "2022-01-18 09:02:00 TA2301.XZCE  5406.0  5406.0  5406.0  5406.0     0.0   \n",
      "2022-01-18 09:03:00 TA2301.XZCE  5406.0  5406.0  5406.0  5406.0     0.0   \n",
      "2022-01-18 09:04:00 TA2301.XZCE  5406.0  5406.0  5406.0  5406.0     0.0   \n",
      "2022-01-18 09:05:00 TA2301.XZCE  5380.0  5380.0  5380.0  5380.0     9.0   \n",
      "\n",
      "                                    money  open_interest     label  \n",
      "datetime            code                                            \n",
      "2022-01-18 09:01:00 TA2301.XZCE  107990.0           13.0 -0.002231  \n",
      "2022-01-18 09:02:00 TA2301.XZCE       0.0           13.0 -0.007399  \n",
      "2022-01-18 09:03:00 TA2301.XZCE       0.0           13.0 -0.007399  \n",
      "2022-01-18 09:04:00 TA2301.XZCE       0.0           13.0 -0.007399  \n",
      "2022-01-18 09:05:00 TA2301.XZCE  241910.0           15.0 -0.002602  \n"
     ]
    }
   ],
   "source": [
    "df = scutquant.clean(df)\n",
    "df['label'] = df['close'].shift(-15) / df['open'] - 1\n",
    "print(df.head(5))"
   ]
  },
  {
   "cell_type": "code",
   "execution_count": 3,
   "metadata": {},
   "outputs": [
    {
     "name": "stdout",
     "output_type": "stream",
     "text": [
      "<class 'pandas.core.frame.DataFrame'>\n",
      "MultiIndex: 21840 entries, (Timestamp('2022-01-18 09:01:00'), 'TA2301.XZCE') to (Timestamp('2022-04-26 23:00:00'), 'TA2301.XZCE')\n",
      "Data columns (total 8 columns):\n",
      " #   Column         Non-Null Count  Dtype  \n",
      "---  ------         --------------  -----  \n",
      " 0   open           21840 non-null  float64\n",
      " 1   high           21840 non-null  float64\n",
      " 2   low            21840 non-null  float64\n",
      " 3   close          21840 non-null  float64\n",
      " 4   volume         21840 non-null  float64\n",
      " 5   money          21840 non-null  float64\n",
      " 6   open_interest  21840 non-null  float64\n",
      " 7   label          21825 non-null  float64\n",
      "dtypes: float64(8)\n",
      "memory usage: 2.2+ MB\n",
      "None\n",
      "X_mis= 0.008585164835164836\n",
      "clean dataset done\n",
      "pop label done\n"
     ]
    },
    {
     "data": {
      "image/png": "[encoded data removed]",
      "text/plain": [
       "<Figure size 432x288 with 1 Axes>"
      ]
     },
     "metadata": {
      "needs_background": "light"
     },
     "output_type": "display_data"
    },
    {
     "data": {
      "image/png": "[encoded data removed]",
      "text/plain": [
       "<Figure size 432x288 with 1 Axes>"
      ]
     },
     "metadata": {
      "needs_background": "light"
     },
     "output_type": "display_data"
    },
    {
     "name": "stdout",
     "output_type": "stream",
     "text": [
      "norm data done\n",
      "                   open      high       low     close    volume     money  \\\n",
      "open           1.000000  0.999872  0.999880  0.999807  0.078322  0.082538   \n",
      "high           0.999872  1.000000  0.999751  0.999892  0.080006  0.084236   \n",
      "low            0.999880  0.999751  1.000000  0.999873  0.076162  0.080380   \n",
      "close          0.999807  0.999892  0.999873  1.000000  0.078015  0.082239   \n",
      "volume         0.078322  0.080006  0.076162  0.078015  1.000000  0.999675   \n",
      "money          0.082538  0.084236  0.080380  0.082239  0.999675  1.000000   \n",
      "open_interest  0.528312  0.529387  0.527185  0.528291  0.141730  0.144115   \n",
      "\n",
      "               open_interest  \n",
      "open                0.528312  \n",
      "high                0.529387  \n",
      "low                 0.527185  \n",
      "close               0.528291  \n",
      "volume              0.141730  \n",
      "money               0.144115  \n",
      "open_interest       1.000000  \n",
      "To solve multicollinearity problem, orthogonal method will be applied\n",
      "PCA done\n",
      "PC3    1.724467\n",
      "PC6    1.655457\n",
      "PC7    1.449054\n",
      "PC5    1.436674\n",
      "PC2    1.403147\n",
      "PC4    1.360504\n",
      "PC1    1.050884\n",
      "Name: MI Scores, dtype: float64\n",
      "count    7.000000\n",
      "mean     1.440026\n",
      "std      0.218527\n",
      "min      1.050884\n",
      "25%      1.381825\n",
      "50%      1.436674\n",
      "75%      1.552256\n",
      "max      1.724467\n",
      "Name: MI Scores, dtype: float64\n",
      "all works done\n"
     ]
    }
   ],
   "source": [
    "x_train, x_test, y_train, y_test, ymean, ystd = scutquant.AutoProcessor(df, y='label', norm='r')"
   ]
  },
  {
   "cell_type": "code",
   "execution_count": 4,
   "metadata": {},
   "outputs": [
    {
     "name": "stdout",
     "output_type": "stream",
     "text": [
      "ols method will be used\n"
     ]
    }
   ],
   "source": [
    "model = scutquant.AutoLrg(x_train, y_train)"
   ]
  },
  {
   "cell_type": "code",
   "execution_count": 5,
   "metadata": {},
   "outputs": [
    {
     "name": "stdout",
     "output_type": "stream",
     "text": [
      "pearson_corr= -0.09092966517135667\n"
     ]
    }
   ],
   "source": [
    "pred = model.predict(x_test)\n",
    "pred = pd.Series(list(pred), index=y_test.index)\n",
    "pred += ymean\n",
    "pred *= ystd\n",
    "print('pearson_corr=', scutquant.pearson_corr(pred, y_test))"
   ]
  }
 ],
 "metadata": {
  "kernelspec": {
   "display_name": "Python 3",
   "language": "python",
   "name": "python3"
  },
  "language_info": {
   "codemirror_mode": {
    "name": "ipython",
    "version": 3
   },
   "file_extension": ".py",
   "mimetype": "text/x-python",
   "name": "python",
   "nbconvert_exporter": "python",
   "pygments_lexer": "ipython3",
   "version": "3.7.0"
  }
 },
 "nbformat": 4,
 "nbformat_minor": 2
}
