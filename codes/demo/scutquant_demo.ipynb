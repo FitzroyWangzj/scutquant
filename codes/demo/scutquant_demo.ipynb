{
 "cells": [
  {
   "cell_type": "code",
   "execution_count": 1,
   "metadata": {},
   "outputs": [],
   "source": [
    "import scutquant\n",
    "import numpy as np\n",
    "import pandas as pd\n",
    "\n",
    "df = pd.read_csv('D:/Desktop/pta.csv', encoding='gbk')\n",
    "df.set_index(['时间'], inplace=True)"
   ]
  },
  {
   "cell_type": "code",
   "execution_count": 2,
   "metadata": {},
   "outputs": [],
   "source": [
    "df = scutquant.clean(df)\n",
    "df['wave'] = df['最高'] - df['最低']\n",
    "df['mean'] = (df['开盘'] + df['收盘']) / 2\n",
    "df['dhigh'] = df['最高'] - df['mean']\n",
    "df['dlow'] = df['最低'] - df['mean']\n",
    "df['amount'] = df['成交量'] * df['mean']\n",
    "df['t'] = np.arange(len(df.index))\n",
    "df['t2'] = df['t'] ** 2\n",
    "df['d'] = abs(df['收盘'] - df['开盘'])\n",
    "df['label'] = df['收盘'] / df['开盘'] \n",
    "\n",
    "for i in range(1, 25):  # 根据过去2小时的数据构建特征\n",
    "    df['open' + str(i)] = df['开盘'].shift(i)\n",
    "    df['high' + str(i)] = df['最高'].shift(i)\n",
    "    df['low' + str(i)] = df['最低'].shift(i)\n",
    "    df['volume' + str(i)] = df['成交量'].shift(i)\n",
    "    df['dhigh' + str(i)] = df['dhigh'].shift(i)\n",
    "    df['dlow' + str(i)] = df['dlow'].shift(i)\n",
    "    df['wave' + str(i)] = df['wave'].shift(i)\n",
    "    df['mean' + str(i)] = df['mean'].shift(i)\n",
    "    df['amount' + str(i)] = df['amount'].shift(i)\n",
    "    df['label' + str(i)] = df['label'].shift(i)\n",
    "    df['dif' + str(i)] = df['MACD_DIF'].shift(i)\n",
    "    df['dea' + str(i)] = df['MACD_DEA'].shift(i)\n",
    "    df['macd' + str(i)] = df['MACD_MACD'].shift(i)\n",
    "\n",
    "df = df.drop(\n",
    "    ['dhigh', 'dlow', 'wave', 'mean', 'amount', '开盘', '收盘', '成交量', '最低', '最高', 'MACD_DIF', 'MACD_DEA', 'MACD_MACD'],\n",
    "    axis=1)"
   ]
  },
  {
   "cell_type": "code",
   "execution_count": 3,
   "metadata": {},
   "outputs": [
    {
     "name": "stdout",
     "output_type": "stream",
     "text": [
      "<class 'pandas.core.frame.DataFrame'>\n",
      "Index: 18900 entries,  2021/07/27-22:50 to  2022/09/14-15:00\n",
      "Columns: 316 entries, t to macd24\n",
      "dtypes: float64(313), int32(2), int64(1)\n",
      "memory usage: 45.6+ MB\n",
      "None\n",
      "X_mis= 0.06530038175607795\n",
      "clean dataset done \n",
      "\n",
      "pop label done \n",
      "\n",
      "label norm done \n",
      "\n"
     ]
    },
    {
     "data": {
      "image/png": "[encoded data removed]",
      "text/plain": [
       "<Figure size 432x288 with 1 Axes>"
      ]
     },
     "metadata": {
      "needs_background": "light"
     },
     "output_type": "display_data"
    },
    {
     "data": {
      "image/png": "[encoded data removed]",
      "text/plain": [
       "<Figure size 432x288 with 1 Axes>"
      ]
     },
     "metadata": {
      "needs_background": "light"
     },
     "output_type": "display_data"
    },
    {
     "name": "stdout",
     "output_type": "stream",
     "text": [
      "norm data done \n",
      "\n",
      "                 t        t2         d     open1     high1      low1  \\\n",
      "t         1.000000  0.968433  0.104707  0.808963  0.808679  0.809353   \n",
      "t2        0.968433  1.000000  0.114690  0.895344  0.895006  0.895763   \n",
      "d         0.104707  0.114690  1.000000  0.169008  0.170531  0.167611   \n",
      "open1     0.808963  0.895344  0.169008  1.000000  0.999934  0.999934   \n",
      "high1     0.808679  0.895006  0.170531  0.999934  1.000000  0.999914   \n",
      "...            ...       ...       ...       ...       ...       ...   \n",
      "amount24  0.079511  0.125956  0.163250  0.223309  0.223698  0.222641   \n",
      "label24   0.003513  0.000980  0.002087  0.009615  0.009565  0.009814   \n",
      "dif24     0.026741  0.010942  0.007290  0.030068  0.029963  0.029889   \n",
      "dea24     0.020448  0.004914  0.005179  0.028237  0.028132  0.028082   \n",
      "macd24   -0.009790 -0.003661 -0.013527 -0.001526 -0.001456 -0.001325   \n",
      "\n",
      "           volume1    dhigh1     dlow1     wave1  ...  volume24   dhigh24  \\\n",
      "t        -0.055848  0.153785 -0.143680  0.170905  ... -0.056286  0.153111   \n",
      "t2       -0.021303  0.170661 -0.157659  0.188411  ... -0.021141  0.170274   \n",
      "d         0.207118  0.219242 -0.233564  0.260948  ...  0.141708  0.114712   \n",
      "open1     0.066628  0.239278 -0.235692  0.272722  ...  0.064764  0.238899   \n",
      "high1     0.071043  0.247160 -0.238646  0.278991  ...  0.065184  0.239346   \n",
      "...            ...       ...       ...       ...  ...       ...       ...   \n",
      "amount24  0.083882  0.117553 -0.122155  0.138865  ...  0.979574  0.626245   \n",
      "label24  -0.002541 -0.007468  0.017363 -0.015036  ... -0.009398  0.066748   \n",
      "dif24     0.026370  0.004602 -0.017720  0.013384  ... -0.018307 -0.021193   \n",
      "dea24     0.029849  0.001635 -0.016866  0.011346  ... -0.014575 -0.022366   \n",
      "macd24    0.001462 -0.001886  0.015976 -0.009992  ... -0.026084 -0.004617   \n",
      "\n",
      "            dlow24    wave24    mean24  amount24   label24     dif24  \\\n",
      "t        -0.142935  0.170087  0.807254  0.079511  0.003513  0.026741   \n",
      "t2       -0.157614  0.188158  0.894679  0.125956  0.000980  0.010942   \n",
      "d        -0.117571  0.133058  0.169696  0.163250  0.002087  0.007290   \n",
      "open1    -0.233999  0.271490  0.995360  0.223309  0.009615  0.030068   \n",
      "high1    -0.234570  0.272067  0.995307  0.223698  0.009565  0.029963   \n",
      "...            ...       ...       ...       ...       ...       ...   \n",
      "amount24 -0.629917  0.729434  0.226528  1.000000 -0.008710 -0.008179   \n",
      "label24   0.041184  0.012854  0.000867 -0.008710  1.000000  0.052978   \n",
      "dif24     0.026451 -0.027639  0.029713 -0.008179  0.052978  1.000000   \n",
      "dea24     0.019218 -0.024262  0.028991 -0.004870  0.016375  0.838136   \n",
      "macd24    0.017138 -0.013083 -0.004686 -0.023779  0.128527  0.178634   \n",
      "\n",
      "             dea24    macd24  \n",
      "t         0.020448 -0.009790  \n",
      "t2        0.004914 -0.003661  \n",
      "d         0.005179 -0.013527  \n",
      "open1     0.028237 -0.001526  \n",
      "high1     0.028132 -0.001456  \n",
      "...            ...       ...  \n",
      "amount24 -0.004870 -0.023779  \n",
      "label24   0.016375  0.128527  \n",
      "dif24     0.838136  0.178634  \n",
      "dea24     1.000000 -0.020558  \n",
      "macd24   -0.020558  1.000000  \n",
      "\n",
      "[315 rows x 315 columns]\n",
      "low1        2.175973\n",
      "mean1       2.164945\n",
      "high1       2.146587\n",
      "open1       2.115318\n",
      "mean2       2.078244\n",
      "              ...   \n",
      "volume15    0.006203\n",
      "volume13    0.001857\n",
      "volume14    0.001291\n",
      "volume16    0.001052\n",
      "volume11    0.000000\n",
      "Name: MI Scores, Length: 315, dtype: float64\n",
      "count    315.000000\n",
      "mean       0.615371\n",
      "std        0.770283\n",
      "min        0.000000\n",
      "25%        0.023225\n",
      "50%        0.039776\n",
      "75%        1.508377\n",
      "max        2.175973\n",
      "Name: MI Scores, dtype: float64\n",
      "all works done \n",
      "\n"
     ]
    }
   ],
   "source": [
    "x_train, x_test, y_train, y_test, ymean, ystd = scutquant.AutoProcessor(df, y='label', norm='r')"
   ]
  },
  {
   "cell_type": "code",
   "execution_count": 4,
   "metadata": {},
   "outputs": [
    {
     "name": "stdout",
     "output_type": "stream",
     "text": [
      "[0]\tvalidation_0-rmse:1.21666\n",
      "[1]\tvalidation_0-rmse:1.20544\n",
      "[2]\tvalidation_0-rmse:1.19809\n",
      "[3]\tvalidation_0-rmse:1.19120\n",
      "[4]\tvalidation_0-rmse:1.18432\n",
      "[5]\tvalidation_0-rmse:1.17725\n",
      "[6]\tvalidation_0-rmse:1.17254\n",
      "[7]\tvalidation_0-rmse:1.16765\n",
      "[8]\tvalidation_0-rmse:1.16336\n",
      "[9]\tvalidation_0-rmse:1.15890\n",
      "[10]\tvalidation_0-rmse:1.15570\n",
      "[11]\tvalidation_0-rmse:1.15143\n",
      "[12]\tvalidation_0-rmse:1.14698\n",
      "[13]\tvalidation_0-rmse:1.14389\n",
      "[14]\tvalidation_0-rmse:1.14090\n",
      "[15]\tvalidation_0-rmse:1.13838\n",
      "[16]\tvalidation_0-rmse:1.13555\n",
      "[17]\tvalidation_0-rmse:1.13288\n",
      "[18]\tvalidation_0-rmse:1.13092\n",
      "[19]\tvalidation_0-rmse:1.12853\n",
      "[20]\tvalidation_0-rmse:1.12619\n",
      "[21]\tvalidation_0-rmse:1.12509\n",
      "[22]\tvalidation_0-rmse:1.12302\n",
      "[23]\tvalidation_0-rmse:1.12161\n",
      "[24]\tvalidation_0-rmse:1.11989\n",
      "[25]\tvalidation_0-rmse:1.11890\n",
      "[26]\tvalidation_0-rmse:1.11823\n",
      "[27]\tvalidation_0-rmse:1.11707\n",
      "[28]\tvalidation_0-rmse:1.11537\n",
      "[29]\tvalidation_0-rmse:1.11475\n",
      "[30]\tvalidation_0-rmse:1.11320\n",
      "[31]\tvalidation_0-rmse:1.11207\n",
      "[32]\tvalidation_0-rmse:1.11092\n",
      "[33]\tvalidation_0-rmse:1.10935\n",
      "[34]\tvalidation_0-rmse:1.10880\n",
      "[35]\tvalidation_0-rmse:1.10855\n",
      "[36]\tvalidation_0-rmse:1.10728\n",
      "[37]\tvalidation_0-rmse:1.10564\n",
      "[38]\tvalidation_0-rmse:1.10522\n",
      "[39]\tvalidation_0-rmse:1.10467\n",
      "[40]\tvalidation_0-rmse:1.10438\n",
      "[41]\tvalidation_0-rmse:1.10288\n",
      "[42]\tvalidation_0-rmse:1.10286\n",
      "[43]\tvalidation_0-rmse:1.10260\n",
      "[44]\tvalidation_0-rmse:1.10192\n",
      "[45]\tvalidation_0-rmse:1.10216\n",
      "[46]\tvalidation_0-rmse:1.10188\n",
      "[47]\tvalidation_0-rmse:1.10179\n",
      "[48]\tvalidation_0-rmse:1.10188\n",
      "[49]\tvalidation_0-rmse:1.10171\n",
      "[50]\tvalidation_0-rmse:1.10134\n",
      "[51]\tvalidation_0-rmse:1.10092\n",
      "[52]\tvalidation_0-rmse:1.10069\n",
      "[53]\tvalidation_0-rmse:1.10067\n",
      "[54]\tvalidation_0-rmse:1.10058\n",
      "[55]\tvalidation_0-rmse:1.10067\n",
      "[56]\tvalidation_0-rmse:1.10067\n",
      "[57]\tvalidation_0-rmse:1.10043\n",
      "[58]\tvalidation_0-rmse:1.10052\n",
      "[59]\tvalidation_0-rmse:1.10040\n",
      "[60]\tvalidation_0-rmse:1.10016\n",
      "[61]\tvalidation_0-rmse:1.10053\n",
      "[62]\tvalidation_0-rmse:1.10026\n",
      "[63]\tvalidation_0-rmse:1.10054\n",
      "[64]\tvalidation_0-rmse:1.10030\n",
      "[65]\tvalidation_0-rmse:1.10010\n",
      "[66]\tvalidation_0-rmse:1.10059\n",
      "[67]\tvalidation_0-rmse:1.10058\n",
      "[68]\tvalidation_0-rmse:1.10267\n",
      "[69]\tvalidation_0-rmse:1.10259\n",
      "[70]\tvalidation_0-rmse:1.10184\n",
      "[71]\tvalidation_0-rmse:1.10217\n",
      "[72]\tvalidation_0-rmse:1.10204\n",
      "[73]\tvalidation_0-rmse:1.10116\n",
      "[74]\tvalidation_0-rmse:1.10110\n",
      "[75]\tvalidation_0-rmse:1.10113\n",
      "[76]\tvalidation_0-rmse:1.10098\n",
      "[77]\tvalidation_0-rmse:1.10077\n",
      "[78]\tvalidation_0-rmse:1.10073\n",
      "[79]\tvalidation_0-rmse:1.10026\n",
      "[80]\tvalidation_0-rmse:1.10034\n",
      "[81]\tvalidation_0-rmse:1.10012\n",
      "[82]\tvalidation_0-rmse:1.10027\n",
      "[83]\tvalidation_0-rmse:1.10072\n",
      "[84]\tvalidation_0-rmse:1.10062\n",
      "ols method will be used\n"
     ]
    }
   ],
   "source": [
    "model = scutquant.hybrid()\n",
    "model.fit(x_train, y_train, x_test, (y_test-ymean)/ystd)"
   ]
  },
  {
   "cell_type": "code",
   "execution_count": 5,
   "metadata": {},
   "outputs": [
    {
     "name": "stdout",
     "output_type": "stream",
     "text": [
      "pearson_corr= 0.14163980729924194\n"
     ]
    }
   ],
   "source": [
    "pred = model.predict(x_test)\n",
    "pred = pd.Series(pred, index=y_test.index)\n",
    "pred += ymean\n",
    "pred *= ystd\n",
    "print('pearson_corr=', scutquant.pearson_corr(pred, y_test))"
   ]
  },
  {
   "cell_type": "code",
   "execution_count": 6,
   "metadata": {},
   "outputs": [],
   "source": [
    "model.dump('D:/Desktop')"
   ]
  }
 ],
 "metadata": {
  "kernelspec": {
   "display_name": "Python 3",
   "language": "python",
   "name": "python3"
  },
  "language_info": {
   "codemirror_mode": {
    "name": "ipython",
    "version": 3
   },
   "file_extension": ".py",
   "mimetype": "text/x-python",
   "name": "python",
   "nbconvert_exporter": "python",
   "pygments_lexer": "ipython3",
   "version": "3.7.0"
  }
 },
 "nbformat": 4,
 "nbformat_minor": 2
}
