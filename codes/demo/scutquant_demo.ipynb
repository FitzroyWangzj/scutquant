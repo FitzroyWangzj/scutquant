{
 "cells": [
  {
   "cell_type": "code",
   "execution_count": 1,
   "metadata": {},
   "outputs": [],
   "source": [
    "import scutquant\n",
    "import pandas as pd\n",
    "\n",
    "df = pd.read_feather('D:/Desktop/future-high-freq/TA2301.XZCE.ftr')\n",
    "df = df[df['datetime'] <= '2022-04-26 23:00:00']\n",
    "df.set_index(['datetime', 'code'], inplace=True)"
   ]
  },
  {
   "cell_type": "code",
   "execution_count": 2,
   "metadata": {},
   "outputs": [],
   "source": [
    "df = scutquant.clean(df)\n",
    "df['label'] = df['close'].shift(-15) / df['open'] - 1\n",
    "df['liquid'] = df['open_interest'] / df['volume']\n",
    "for i in range(1, 61):\n",
    "    df['open_' + str(i)] = df['open'].shift(i)\n",
    "    df['high_' + str(i)] = df['high'].shift(i)\n",
    "    df['low_' + str(i)] = df['low'].shift(i)\n",
    "    df['money_' + str(i)] = df['money'].shift(i)\n",
    "    df['liquid' + str(i)] = df['liquid'].shift(i)\n",
    "    \n",
    "df['vwap3'] = (((df['open'] + df['close']) / 2) * df['volume'] + ((df['open_1'] + df['close'].shift(1)) / 2) * df['volume'].shift(1) \n",
    "                + ((df['open_2'] + df['close'].shift(2)) / 2) * df['volume'].shift(2)) / (df['volume'] + df['volume'].shift(1) + \n",
    "                                                                                          df['volume'].shift(2))\n",
    "for i in range(1, 61):\n",
    "    df['vwap3_' + str(i)] = df['vwap3'].shift(i)\n",
    "    \n",
    "df = df.drop(['open', 'close', 'high', 'low', 'volume', 'money', 'open_interest', 'vwap3', 'liquid'], axis=1)"
   ]
  },
  {
   "cell_type": "code",
   "execution_count": 3,
   "metadata": {},
   "outputs": [
    {
     "name": "stdout",
     "output_type": "stream",
     "text": [
      "<class 'pandas.core.frame.DataFrame'>\n",
      "MultiIndex: 21840 entries, (Timestamp('2022-01-18 09:01:00'), 'TA2301.XZCE') to (Timestamp('2022-04-26 23:00:00'), 'TA2301.XZCE')\n",
      "Columns: 361 entries, label to vwap3_60\n",
      "dtypes: float64(361)\n",
      "memory usage: 61.0+ MB\n",
      "None\n",
      "X_mis= 2.53740373200207\n",
      "clean dataset done \n",
      "\n",
      "pop label done \n",
      "\n",
      "label norm done \n",
      "\n"
     ]
    },
    {
     "data": {
      "image/png": "[encoded data removed]",
      "text/plain": [
       "<Figure size 432x288 with 1 Axes>"
      ]
     },
     "metadata": {
      "needs_background": "light"
     },
     "output_type": "display_data"
    },
    {
     "data": {
      "image/png": "[encoded data removed]",
      "text/plain": [
       "<Figure size 432x288 with 1 Axes>"
      ]
     },
     "metadata": {
      "needs_background": "light"
     },
     "output_type": "display_data"
    },
    {
     "name": "stdout",
     "output_type": "stream",
     "text": [
      "norm data done \n",
      "\n",
      "            open_1    high_1     low_1   money_1   liquid1    open_2  \\\n",
      "open_1    1.000000  0.999872  0.999880  0.388468 -0.372467  0.999474   \n",
      "high_1    0.999872  1.000000  0.999750  0.393629 -0.375941  0.999297   \n",
      "low_1     0.999880  0.999750  1.000000  0.382932 -0.368764  0.999310   \n",
      "money_1   0.388468  0.393629  0.382932  1.000000 -0.738153  0.388430   \n",
      "liquid1  -0.372467 -0.375941 -0.368764 -0.738153  1.000000 -0.372106   \n",
      "...            ...       ...       ...       ...       ...       ...   \n",
      "vwap3_56  0.970338  0.970245  0.969969  0.393756 -0.371725  0.970867   \n",
      "vwap3_57  0.969808  0.969717  0.969435  0.394046 -0.371888  0.970341   \n",
      "vwap3_58  0.969276  0.969186  0.968896  0.394304 -0.372179  0.969811   \n",
      "vwap3_59  0.968737  0.968646  0.968357  0.394444 -0.372413  0.969280   \n",
      "vwap3_60  0.968193  0.968097  0.967808  0.394293 -0.372539  0.968741   \n",
      "\n",
      "            high_2     low_2   money_2   liquid2  ...  vwap3_51  vwap3_52  \\\n",
      "open_1    0.999549  0.999529  0.387949 -0.372128  ...  0.973005  0.972460   \n",
      "high_1    0.999413  0.999313  0.390757 -0.374160  ...  0.972895  0.972354   \n",
      "low_1     0.999347  0.999408  0.384951 -0.369868  ...  0.972647  0.972101   \n",
      "money_1   0.391468  0.385296  0.550023 -0.449221  ...  0.393488  0.393491   \n",
      "liquid1  -0.374399 -0.369898 -0.444836  0.435276  ... -0.370923 -0.371102   \n",
      "...            ...       ...       ...       ...  ...       ...       ...   \n",
      "vwap3_56  0.970767  0.970500  0.393630 -0.371531  ...  0.997699  0.998219   \n",
      "vwap3_57  0.970248  0.969972  0.393798 -0.371779  ...  0.997179  0.997699   \n",
      "vwap3_58  0.969721  0.969439  0.394088 -0.371941  ...  0.996662  0.997179   \n",
      "vwap3_59  0.969189  0.968899  0.394343 -0.372230  ...  0.996147  0.996662   \n",
      "vwap3_60  0.968650  0.968361  0.394483 -0.372463  ...  0.995644  0.996148   \n",
      "\n",
      "          vwap3_53  vwap3_54  vwap3_55  vwap3_56  vwap3_57  vwap3_58  \\\n",
      "open_1    0.971925  0.971392  0.970864  0.970338  0.969808  0.969276   \n",
      "high_1    0.971823  0.971292  0.970764  0.970245  0.969717  0.969186   \n",
      "low_1     0.971563  0.971027  0.970496  0.969969  0.969435  0.968896   \n",
      "money_1   0.393545  0.393620  0.393588  0.393756  0.394046  0.394304   \n",
      "liquid1  -0.371208 -0.371331 -0.371476 -0.371725 -0.371888 -0.372179   \n",
      "...            ...       ...       ...       ...       ...       ...   \n",
      "vwap3_56  0.998744  0.999248  0.999678  1.000000  0.999678  0.999248   \n",
      "vwap3_57  0.998219  0.998744  0.999248  0.999678  1.000000  0.999678   \n",
      "vwap3_58  0.997699  0.998219  0.998744  0.999248  0.999678  1.000000   \n",
      "vwap3_59  0.997180  0.997700  0.998219  0.998744  0.999248  0.999678   \n",
      "vwap3_60  0.996663  0.997180  0.997700  0.998219  0.998744  0.999248   \n",
      "\n",
      "          vwap3_59  vwap3_60  \n",
      "open_1    0.968737  0.968193  \n",
      "high_1    0.968646  0.968097  \n",
      "low_1     0.968357  0.967808  \n",
      "money_1   0.394444  0.394293  \n",
      "liquid1  -0.372413 -0.372539  \n",
      "...            ...       ...  \n",
      "vwap3_56  0.998744  0.998219  \n",
      "vwap3_57  0.999248  0.998744  \n",
      "vwap3_58  0.999678  0.999248  \n",
      "vwap3_59  1.000000  0.999678  \n",
      "vwap3_60  0.999678  1.000000  \n",
      "\n",
      "[360 rows x 360 columns]\n",
      "To solve multicollinearity problem, orthogonal method will be applied\n",
      "PCA done\n",
      "PC1      0.634500\n",
      "PC121    0.301127\n",
      "PC122    0.136905\n",
      "PC171    0.115786\n",
      "PC182    0.080090\n",
      "           ...   \n",
      "PC47     0.000000\n",
      "PC41     0.000000\n",
      "PC37     0.000000\n",
      "PC31     0.000000\n",
      "PC55     0.000000\n",
      "Name: MI Scores, Length: 360, dtype: float64\n",
      "count    360.000000\n",
      "mean       0.018484\n",
      "std        0.038979\n",
      "min        0.000000\n",
      "25%        0.006178\n",
      "50%        0.013967\n",
      "75%        0.020922\n",
      "max        0.634500\n",
      "Name: MI Scores, dtype: float64\n",
      "all works done \n",
      "\n"
     ]
    }
   ],
   "source": [
    "x_train, x_test, y_train, y_test, ymean, ystd = scutquant.AutoProcessor(df, y='label', norm='r')"
   ]
  },
  {
   "cell_type": "code",
   "execution_count": 4,
   "metadata": {},
   "outputs": [
    {
     "name": "stdout",
     "output_type": "stream",
     "text": [
      "[0]\tvalidation_0-rmse:0.82279\n",
      "[1]\tvalidation_0-rmse:0.81293\n",
      "[2]\tvalidation_0-rmse:0.80327\n",
      "[3]\tvalidation_0-rmse:0.79329\n",
      "[4]\tvalidation_0-rmse:0.78592\n",
      "[5]\tvalidation_0-rmse:0.77872\n",
      "[6]\tvalidation_0-rmse:0.77153\n",
      "[7]\tvalidation_0-rmse:0.76418\n",
      "[8]\tvalidation_0-rmse:0.75708\n",
      "[9]\tvalidation_0-rmse:0.75137\n",
      "[10]\tvalidation_0-rmse:0.74559\n",
      "[11]\tvalidation_0-rmse:0.74105\n",
      "[12]\tvalidation_0-rmse:0.73635\n",
      "[13]\tvalidation_0-rmse:0.73166\n",
      "[14]\tvalidation_0-rmse:0.72709\n",
      "[15]\tvalidation_0-rmse:0.72323\n",
      "[16]\tvalidation_0-rmse:0.72011\n",
      "[17]\tvalidation_0-rmse:0.71768\n",
      "[18]\tvalidation_0-rmse:0.71489\n",
      "[19]\tvalidation_0-rmse:0.71227\n",
      "[20]\tvalidation_0-rmse:0.71009\n",
      "[21]\tvalidation_0-rmse:0.70761\n",
      "[22]\tvalidation_0-rmse:0.70502\n",
      "[23]\tvalidation_0-rmse:0.70286\n",
      "[24]\tvalidation_0-rmse:0.70134\n",
      "[25]\tvalidation_0-rmse:0.70017\n",
      "[26]\tvalidation_0-rmse:0.69871\n",
      "[27]\tvalidation_0-rmse:0.69752\n",
      "[28]\tvalidation_0-rmse:0.69655\n",
      "[29]\tvalidation_0-rmse:0.69537\n",
      "[30]\tvalidation_0-rmse:0.69424\n",
      "[31]\tvalidation_0-rmse:0.69337\n",
      "[32]\tvalidation_0-rmse:0.69213\n",
      "[33]\tvalidation_0-rmse:0.69127\n",
      "[34]\tvalidation_0-rmse:0.69063\n",
      "[35]\tvalidation_0-rmse:0.69074\n",
      "[36]\tvalidation_0-rmse:0.69021\n",
      "[37]\tvalidation_0-rmse:0.68966\n",
      "[38]\tvalidation_0-rmse:0.68905\n",
      "[39]\tvalidation_0-rmse:0.68853\n",
      "[40]\tvalidation_0-rmse:0.68793\n",
      "[41]\tvalidation_0-rmse:0.68740\n",
      "[42]\tvalidation_0-rmse:0.68689\n",
      "[43]\tvalidation_0-rmse:0.68668\n",
      "[44]\tvalidation_0-rmse:0.68622\n",
      "[45]\tvalidation_0-rmse:0.68617\n",
      "[46]\tvalidation_0-rmse:0.68578\n",
      "[47]\tvalidation_0-rmse:0.68551\n",
      "[48]\tvalidation_0-rmse:0.68523\n",
      "[49]\tvalidation_0-rmse:0.68505\n",
      "[50]\tvalidation_0-rmse:0.68501\n",
      "[51]\tvalidation_0-rmse:0.68487\n",
      "[52]\tvalidation_0-rmse:0.68489\n",
      "[53]\tvalidation_0-rmse:0.68477\n",
      "[54]\tvalidation_0-rmse:0.68497\n",
      "[55]\tvalidation_0-rmse:0.68475\n",
      "[56]\tvalidation_0-rmse:0.68449\n",
      "[57]\tvalidation_0-rmse:0.68446\n",
      "[58]\tvalidation_0-rmse:0.68437\n",
      "[59]\tvalidation_0-rmse:0.68435\n",
      "[60]\tvalidation_0-rmse:0.68429\n",
      "[61]\tvalidation_0-rmse:0.68423\n",
      "[62]\tvalidation_0-rmse:0.68405\n",
      "[63]\tvalidation_0-rmse:0.68403\n",
      "[64]\tvalidation_0-rmse:0.68395\n",
      "[65]\tvalidation_0-rmse:0.68372\n",
      "[66]\tvalidation_0-rmse:0.68369\n",
      "[67]\tvalidation_0-rmse:0.68366\n",
      "[68]\tvalidation_0-rmse:0.68372\n",
      "[69]\tvalidation_0-rmse:0.68365\n",
      "[70]\tvalidation_0-rmse:0.68370\n",
      "[71]\tvalidation_0-rmse:0.68363\n",
      "[72]\tvalidation_0-rmse:0.68362\n",
      "[73]\tvalidation_0-rmse:0.68365\n",
      "[74]\tvalidation_0-rmse:0.68380\n",
      "[75]\tvalidation_0-rmse:0.68382\n",
      "[76]\tvalidation_0-rmse:0.68375\n",
      "[77]\tvalidation_0-rmse:0.68358\n",
      "[78]\tvalidation_0-rmse:0.68361\n",
      "[79]\tvalidation_0-rmse:0.68354\n",
      "[80]\tvalidation_0-rmse:0.68356\n",
      "[81]\tvalidation_0-rmse:0.68354\n",
      "[82]\tvalidation_0-rmse:0.68345\n",
      "[83]\tvalidation_0-rmse:0.68342\n",
      "[84]\tvalidation_0-rmse:0.68327\n",
      "[85]\tvalidation_0-rmse:0.68337\n",
      "[86]\tvalidation_0-rmse:0.68360\n",
      "[87]\tvalidation_0-rmse:0.68359\n",
      "[88]\tvalidation_0-rmse:0.68360\n",
      "[89]\tvalidation_0-rmse:0.68373\n",
      "[90]\tvalidation_0-rmse:0.68372\n",
      "[91]\tvalidation_0-rmse:0.68378\n",
      "[92]\tvalidation_0-rmse:0.68383\n",
      "[93]\tvalidation_0-rmse:0.68377\n",
      "[94]\tvalidation_0-rmse:0.68376\n",
      "[95]\tvalidation_0-rmse:0.68377\n",
      "[96]\tvalidation_0-rmse:0.68382\n",
      "[97]\tvalidation_0-rmse:0.68396\n",
      "[98]\tvalidation_0-rmse:0.68395\n",
      "[99]\tvalidation_0-rmse:0.68400\n",
      "[100]\tvalidation_0-rmse:0.68402\n",
      "[101]\tvalidation_0-rmse:0.68402\n",
      "[102]\tvalidation_0-rmse:0.68396\n",
      "[103]\tvalidation_0-rmse:0.68399\n",
      "[104]\tvalidation_0-rmse:0.68398\n",
      "[105]\tvalidation_0-rmse:0.68393\n",
      "[106]\tvalidation_0-rmse:0.68393\n",
      "[107]\tvalidation_0-rmse:0.68402\n",
      "[108]\tvalidation_0-rmse:0.68413\n",
      "[109]\tvalidation_0-rmse:0.68423\n",
      "[110]\tvalidation_0-rmse:0.68419\n",
      "[111]\tvalidation_0-rmse:0.68422\n",
      "[112]\tvalidation_0-rmse:0.68428\n",
      "[113]\tvalidation_0-rmse:0.68433\n",
      "[114]\tvalidation_0-rmse:0.68443\n",
      "ols method will be used\n"
     ]
    }
   ],
   "source": [
    "model = scutquant.hybrid()\n",
    "model.fit(x_train, y_train, x_test, (y_test-ymean)/ystd)"
   ]
  },
  {
   "cell_type": "code",
   "execution_count": 5,
   "metadata": {},
   "outputs": [
    {
     "name": "stdout",
     "output_type": "stream",
     "text": [
      "pearson_corr= -0.013466648570033789\n"
     ]
    }
   ],
   "source": [
    "pred = model.predict(x_test)\n",
    "pred = pd.Series(pred, index=y_test.index)\n",
    "pred += ymean\n",
    "pred *= ystd\n",
    "print('pearson_corr=', scutquant.pearson_corr(pred, y_test))"
   ]
  },
  {
   "cell_type": "code",
   "execution_count": 6,
   "metadata": {},
   "outputs": [],
   "source": [
    "model.dump('D:/Desktop')"
   ]
  }
 ],
 "metadata": {
  "kernelspec": {
   "display_name": "Python 3",
   "language": "python",
   "name": "python3"
  },
  "language_info": {
   "codemirror_mode": {
    "name": "ipython",
    "version": 3
   },
   "file_extension": ".py",
   "mimetype": "text/x-python",
   "name": "python",
   "nbconvert_exporter": "python",
   "pygments_lexer": "ipython3",
   "version": "3.7.0"
  }
 },
 "nbformat": 4,
 "nbformat_minor": 2
}
